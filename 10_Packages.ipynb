{
  "nbformat": 4,
  "nbformat_minor": 0,
  "metadata": {
    "colab": {
      "name": "10. Packages.ipynb",
      "provenance": [],
      "collapsed_sections": [],
      "authorship_tag": "ABX9TyMfzbBjw+/nmB4xsPOd1OAu",
      "include_colab_link": true
    },
    "kernelspec": {
      "name": "python3",
      "display_name": "Python 3"
    },
    "language_info": {
      "name": "python"
    }
  },
  "cells": [
    {
      "cell_type": "markdown",
      "metadata": {
        "id": "view-in-github",
        "colab_type": "text"
      },
      "source": [
        "<a href=\"https://colab.research.google.com/github/bharath95539/Python/blob/main/10_Packages.ipynb\" target=\"_parent\"><img src=\"https://colab.research.google.com/assets/colab-badge.svg\" alt=\"Open In Colab\"/></a>"
      ]
    },
    {
      "cell_type": "markdown",
      "source": [
        "**1. Create a program to create two class.**\n",
        "\n",
        "**1.1.** Create a constructor and a method for each class                           \n",
        "**1.2.** Create a __init__.py for adding all packages                           \n",
        "**1.3.** Import the respective packages                           \n",
        "**1.4.** Call each class by creating an object to it                            \n",
        "**1.5.** Create a program by all the above"
      ],
      "metadata": {
        "id": "jfU1fea_NNOx"
      }
    },
    {
      "cell_type": "code",
      "execution_count": null,
      "metadata": {
        "id": "ZMPBXd7iNFGV",
        "colab": {
          "base_uri": "https://localhost:8080/"
        },
        "outputId": "4774b895-1d9d-41b2-afa5-836753b748b7"
      },
      "outputs": [
        {
          "output_type": "stream",
          "name": "stdout",
          "text": [
            "program1\n",
            "program2\n"
          ]
        }
      ],
      "source": [
        "class program1:\n",
        " \n",
        "    # default constructor\n",
        "    def __init__(self):\n",
        "        self.met = \"program1\"\n",
        " \n",
        "    # a method for printing data members\n",
        "    def print_met(self):\n",
        "        print(self.met)\n",
        "class program2:\n",
        " \n",
        "    # default constructor\n",
        "    def __init__(self):\n",
        "        self.met = \"program2\"\n",
        " \n",
        "    # a method for printing data members\n",
        "    def print_met(self):\n",
        "        print(self.met)\n",
        " \n",
        "# creating object of the class\n",
        "obj1 = program1()\n",
        "obj2 = program2()\n",
        "# calling the instance method using the object obj\n",
        "obj1.print_met()\n",
        "obj2.print_met()"
      ]
    }
  ]
}