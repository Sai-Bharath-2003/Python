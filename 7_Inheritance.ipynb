{
  "nbformat": 4,
  "nbformat_minor": 0,
  "metadata": {
    "colab": {
      "name": "7. Inheritance.ipynb",
      "provenance": [],
      "collapsed_sections": [],
      "authorship_tag": "ABX9TyPwSJTUwvvk9M2GJmQbOvMZ",
      "include_colab_link": true
    },
    "kernelspec": {
      "name": "python3",
      "display_name": "Python 3"
    },
    "language_info": {
      "name": "python"
    }
  },
  "cells": [
    {
      "cell_type": "markdown",
      "metadata": {
        "id": "view-in-github",
        "colab_type": "text"
      },
      "source": [
        "<a href=\"https://colab.research.google.com/github/bharath95539/Python/blob/main/7_Inheritance.ipynb\" target=\"_parent\"><img src=\"https://colab.research.google.com/assets/colab-badge.svg\" alt=\"Open In Colab\"/></a>"
      ]
    },
    {
      "cell_type": "markdown",
      "source": [
        "**1.**A, B and C are classes\n",
        "\n",
        "A is a super class. B is a sub class of A. C is a sub class of B. \n",
        "\n",
        "Create three methods in each class, 2 methods are specific to each class and third method (override method) should be in all three Classes A, B and C\n",
        "\n",
        "Create a class with main method. Create an object for each class A, B and C in main method and call every method of each class using its own object/instance.\n",
        "\n",
        "Call an overridden method with super class reference to B and C class’s objects\n",
        "\n",
        "Runtime Polymorphism with Data Members/Instance variables, Repeat the above \n",
        "process only for data members"
      ],
      "metadata": {
        "id": "Mz33Nc3ULGUb"
      }
    },
    {
      "cell_type": "code",
      "execution_count": null,
      "metadata": {
        "id": "SnlleK4vK6m3",
        "colab": {
          "base_uri": "https://localhost:8080/"
        },
        "outputId": "5b1cb4a0-e7c0-42b8-ac92-e897a7c562f2"
      },
      "outputs": [
        {
          "output_type": "stream",
          "name": "stdout",
          "text": [
            "There are many types of birds.\n",
            "Most of the birds can fly but some cannot.\n",
            "There are many types of birds.\n",
            "Sparrows can fly.\n",
            "But Ostriches cannot fly.\n"
          ]
        }
      ],
      "source": [
        "\n",
        "class class_A:\n",
        "    \n",
        "    def intro(self):\n",
        "        print(\"There are many types of birds.\")\n",
        "  \n",
        "    def flight(self):\n",
        "        print(\"Most of the birds can fly but some cannot.\")\n",
        "  \n",
        "class class_B(class_A):\n",
        "    \n",
        "    def flight(self):\n",
        "        print(\"Sparrows can fly.\")\n",
        "  \n",
        "class class_C(class_B):\n",
        "  \n",
        "    def flight(self):\n",
        "        print(\"But Ostriches cannot fly.\")\n",
        "  \n",
        "obj_bird = class_A()\n",
        "obj_spr = class_B()\n",
        "obj_ost = class_C()\n",
        "  \n",
        "obj_bird.intro()\n",
        "obj_bird.flight()\n",
        "  \n",
        "obj_spr.intro()\n",
        "obj_spr.flight()\n",
        "obj_ost.flight()"
      ]
    }
  ]
}