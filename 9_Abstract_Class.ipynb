{
  "nbformat": 4,
  "nbformat_minor": 0,
  "metadata": {
    "colab": {
      "name": "9. Abstract Class.ipynb",
      "provenance": [],
      "collapsed_sections": [],
      "authorship_tag": "ABX9TyNxpDiZK/3g4IQyCMZbMOtS",
      "include_colab_link": true
    },
    "kernelspec": {
      "name": "python3",
      "display_name": "Python 3"
    },
    "language_info": {
      "name": "python"
    }
  },
  "cells": [
    {
      "cell_type": "markdown",
      "metadata": {
        "id": "view-in-github",
        "colab_type": "text"
      },
      "source": [
        "<a href=\"https://colab.research.google.com/github/bharath95539/Python/blob/main/9_Abstract_Class.ipynb\" target=\"_parent\"><img src=\"https://colab.research.google.com/assets/colab-badge.svg\" alt=\"Open In Colab\"/></a>"
      ]
    },
    {
      "cell_type": "markdown",
      "source": [
        "**1.** Create an abstract class with abstract and non-abstract methods."
      ],
      "metadata": {
        "id": "rMtZ1If2Mwkl"
      }
    },
    {
      "cell_type": "code",
      "source": [
        "from abc import ABC, abstractmethod   \n",
        "class Car(ABC):   \n",
        "    def mileage(self):   \n",
        "        pass  \n",
        "  \n",
        "class Tesla(Car):   \n",
        "    def mileage(self):   \n",
        "        print(\"The mileage is 30kmph\")   \n",
        "class Suzuki(Car):   \n",
        "    def mileage(self):   \n",
        "        print(\"The mileage is 25kmph \")   \n",
        "t= Tesla ()   \n",
        "t.mileage()   "
      ],
      "metadata": {
        "colab": {
          "base_uri": "https://localhost:8080/"
        },
        "id": "CnlOLSGq9gyQ",
        "outputId": "f107ada5-76ec-4b7b-b15e-c88031ac01f8"
      },
      "execution_count": null,
      "outputs": [
        {
          "output_type": "stream",
          "name": "stdout",
          "text": [
            "The mileage is 30kmph\n"
          ]
        }
      ]
    },
    {
      "cell_type": "markdown",
      "source": [
        "**2.** Create a sub class for an abstract class. Create an object in the child class for the \n",
        "abstract class and access the non-abstract methods\n"
      ],
      "metadata": {
        "id": "CEupopxvMwZa"
      }
    },
    {
      "cell_type": "code",
      "source": [
        "# abstract class  \n",
        "  \n",
        "from abc import ABC  \n",
        "  \n",
        "class Polygon(ABC):   \n",
        "  \n",
        "   # abstract method   \n",
        "   def sides(self):   \n",
        "      pass  \n",
        "  \n",
        "class Triangle(Polygon):   \n",
        "  \n",
        "     \n",
        "   def sides(self):   \n",
        "      print(\"Triangle has 3 sides\")   \n",
        "  \n",
        "# Driver code   \n",
        "t = Triangle()   \n",
        "t.sides()   "
      ],
      "metadata": {
        "colab": {
          "base_uri": "https://localhost:8080/"
        },
        "id": "1V6DkChJ9hK6",
        "outputId": "71a1ee40-8b11-40bb-e1e4-7a6781df66f1"
      },
      "execution_count": null,
      "outputs": [
        {
          "output_type": "stream",
          "name": "stdout",
          "text": [
            "Triangle has 3 sides\n"
          ]
        }
      ]
    },
    {
      "cell_type": "markdown",
      "source": [
        "**3.** Create an instance for the child class in child class and call abstract methods"
      ],
      "metadata": {
        "id": "VNEzkD9jMwOK"
      }
    },
    {
      "cell_type": "code",
      "source": [
        "class Polygon(ABC):   \n",
        "  \n",
        "   # abstract method   \n",
        "   def sides(self):   \n",
        "      pass  \n",
        "  \n",
        "class Polygon(ABC):   \n",
        "  \n",
        "   # abstract method   \n",
        "   def sides(self):   \n",
        "      pass  \n",
        "  \n",
        "class Triangle(Polygon):   \n",
        "   def sides(self):   \n",
        "      print(\"Triangle has 3 sides\")"
      ],
      "metadata": {
        "id": "z0bkNgJ-9hoI"
      },
      "execution_count": null,
      "outputs": []
    },
    {
      "cell_type": "markdown",
      "source": [
        "**4.** Create an instance for the child class in child class and call non-abstract methods"
      ],
      "metadata": {
        "id": "c_EqxTw9MwC4"
      }
    },
    {
      "cell_type": "code",
      "execution_count": null,
      "metadata": {
        "id": "8Q7_zuiBMpJ4"
      },
      "outputs": [],
      "source": [
        "class MyAbstract(ABC):\n",
        "    def get_current():\n",
        "        print(\"current\")\n",
        "\n",
        "    def get_state():\n",
        "        MyAbstract.get_current()\n",
        "\n",
        "    @abstractmethod\n",
        "    def get_time():\n",
        "        pass"
      ]
    }
  ]
}