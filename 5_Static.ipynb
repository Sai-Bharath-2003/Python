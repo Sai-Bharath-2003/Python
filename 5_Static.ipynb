{
  "nbformat": 4,
  "nbformat_minor": 0,
  "metadata": {
    "colab": {
      "name": "5. Static.ipynb",
      "provenance": [],
      "collapsed_sections": [],
      "authorship_tag": "ABX9TyN2vHPeQ8asvLrJ13h7PiNb",
      "include_colab_link": true
    },
    "kernelspec": {
      "name": "python3",
      "display_name": "Python 3"
    },
    "language_info": {
      "name": "python"
    }
  },
  "cells": [
    {
      "cell_type": "markdown",
      "metadata": {
        "id": "view-in-github",
        "colab_type": "text"
      },
      "source": [
        "<a href=\"https://colab.research.google.com/github/bharath95539/Python/blob/main/5_Static.ipynb\" target=\"_parent\"><img src=\"https://colab.research.google.com/assets/colab-badge.svg\" alt=\"Open In Colab\"/></a>"
      ]
    },
    {
      "cell_type": "markdown",
      "source": [
        "**1.**Define a static variable and access that through a class "
      ],
      "metadata": {
        "id": "YNfcrIW9IrbQ"
      }
    },
    {
      "cell_type": "code",
      "execution_count": null,
      "metadata": {
        "id": "c8kDKpLBInfA",
        "colab": {
          "base_uri": "https://localhost:8080/"
        },
        "outputId": "164dab2b-e6e2-482c-bc8e-6f68e91b715a"
      },
      "outputs": [
        {
          "output_type": "stream",
          "name": "stdout",
          "text": [
            "cse\n",
            "cse\n"
          ]
        }
      ],
      "source": [
        "class CSEStudent:\n",
        "    stream = 'cse'                  # Class Variable\n",
        "    def __init__(self,name,roll):\n",
        "        self.name = name            # Instance Variable\n",
        "        self.roll = roll            # Instance Variable\n",
        " \n",
        "# Objects of CSStudent class\n",
        "a = CSEStudent('Sai', 1)\n",
        "b = CSEStudent('Bharath', 2)\n",
        " \n",
        "print(a.stream)  # prints \"cse\"\n",
        "print(b.stream)"
      ]
    },
    {
      "cell_type": "markdown",
      "source": [
        "**2.**Define a static variable and access that through a instance"
      ],
      "metadata": {
        "id": "38ySQAVBIyrb"
      }
    },
    {
      "cell_type": "code",
      "source": [
        "stream = 'cse'                  # Class Variable\n",
        "def __init__(self,name,roll):\n",
        "    self.name = name            # Instance Variable\n",
        "    self.roll = roll            # Instance Variable\n",
        " \n",
        "# Objects of CSStudent class\n",
        "a = CSEStudent('Sai', 1)\n",
        "b = CSEStudent('Bharath', 2)\n",
        " \n",
        "print(a.stream)  # prints \"cse\"\n",
        "print(b.stream)"
      ],
      "metadata": {
        "id": "idzaGzkTIzHH",
        "colab": {
          "base_uri": "https://localhost:8080/"
        },
        "outputId": "2811a861-d616-4366-faf2-16c8d01538f0"
      },
      "execution_count": null,
      "outputs": [
        {
          "output_type": "stream",
          "name": "stdout",
          "text": [
            "cse\n",
            "cse\n"
          ]
        }
      ]
    },
    {
      "cell_type": "markdown",
      "source": [
        "**3.**Define a static variable and change within the instance"
      ],
      "metadata": {
        "id": "Z3pLxOTgIzhC"
      }
    },
    {
      "cell_type": "code",
      "source": [
        "stream = 'cse'                  # Class Variable\n",
        "def __init__(self,name,roll):\n",
        "    self.name = name            # Instance Variable\n",
        "    self.roll = roll            # Instance Variable\n",
        " \n",
        "# Objects of CSStudent class\n",
        "a = CSEStudent('Sai', 1)\n",
        "b = CSEStudent('Bharath', 2)\n",
        " \n",
        "a.stream = 'ece'\n",
        "print(a.stream)"
      ],
      "metadata": {
        "id": "SDyFk448Iz7P",
        "colab": {
          "base_uri": "https://localhost:8080/"
        },
        "outputId": "3b5c5188-c4e4-488a-a0b9-7f197b40dc8c"
      },
      "execution_count": null,
      "outputs": [
        {
          "output_type": "stream",
          "name": "stdout",
          "text": [
            "ece\n"
          ]
        }
      ]
    },
    {
      "cell_type": "markdown",
      "source": [
        "**4.** Define a static variable and change within the class"
      ],
      "metadata": {
        "id": "Ss8ZLqu0I0Xl"
      }
    },
    {
      "cell_type": "code",
      "source": [
        "class CSEStudent:\n",
        "    stream = 'cse'                  # Class Variable\n",
        "    def __init__(self,name,roll):\n",
        "        self.name = name            # Instance Variable\n",
        "        self.roll = roll            # Instance Variable\n",
        " \n",
        "# Objects of CSStudent class\n",
        "a = CSEStudent('Sai', 1)\n",
        "b = CSEStudent('Bharath', 2)\n",
        " \n",
        "CSEStudent.stream = 'AI'\n",
        "print(a.stream)  # prints \"cse\"\n",
        "print(b.stream)"
      ],
      "metadata": {
        "colab": {
          "base_uri": "https://localhost:8080/"
        },
        "id": "n5upHpShEMA8",
        "outputId": "e64a01b4-1839-42f3-d8f2-c1a162820ef4"
      },
      "execution_count": null,
      "outputs": [
        {
          "output_type": "stream",
          "name": "stdout",
          "text": [
            "AI\n",
            "AI\n"
          ]
        }
      ]
    }
  ]
}