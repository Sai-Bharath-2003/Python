{
  "nbformat": 4,
  "nbformat_minor": 0,
  "metadata": {
    "colab": {
      "name": "14. Exceptions.ipynb",
      "provenance": [],
      "collapsed_sections": [],
      "authorship_tag": "ABX9TyO7GfHzsTp3famjKDoI8uVw",
      "include_colab_link": true
    },
    "kernelspec": {
      "name": "python3",
      "display_name": "Python 3"
    },
    "language_info": {
      "name": "python"
    }
  },
  "cells": [
    {
      "cell_type": "markdown",
      "metadata": {
        "id": "view-in-github",
        "colab_type": "text"
      },
      "source": [
        "<a href=\"https://colab.research.google.com/github/bharath95539/Python/blob/main/14_Exceptions.ipynb\" target=\"_parent\"><img src=\"https://colab.research.google.com/assets/colab-badge.svg\" alt=\"Open In Colab\"/></a>"
      ]
    },
    {
      "cell_type": "markdown",
      "source": [
        "**1.** Write a program to generate Arithmetic Exception without exception handling\n"
      ],
      "metadata": {
        "id": "TzTPT1n6Phhi"
      }
    },
    {
      "cell_type": "code",
      "source": [
        "a = int(input(\"Enter a:\"))    \n",
        "b = int(input(\"Enter b:\"))    \n",
        "c = a/b  \n",
        "print(\"a/b = %d\" %c) "
      ],
      "metadata": {
        "colab": {
          "base_uri": "https://localhost:8080/",
          "height": 248
        },
        "id": "54LJPHkLgdjK",
        "outputId": "b14354b5-ce42-4d73-b149-ca5f1ff727a6"
      },
      "execution_count": null,
      "outputs": [
        {
          "name": "stdout",
          "output_type": "stream",
          "text": [
            "Enter a:10\n",
            "Enter b:0\n"
          ]
        },
        {
          "output_type": "error",
          "ename": "ZeroDivisionError",
          "evalue": "ignored",
          "traceback": [
            "\u001b[0;31m---------------------------------------------------------------------------\u001b[0m",
            "\u001b[0;31mZeroDivisionError\u001b[0m                         Traceback (most recent call last)",
            "\u001b[0;32m<ipython-input-1-263a795613b9>\u001b[0m in \u001b[0;36m<module>\u001b[0;34m()\u001b[0m\n\u001b[1;32m      1\u001b[0m \u001b[0ma\u001b[0m \u001b[0;34m=\u001b[0m \u001b[0mint\u001b[0m\u001b[0;34m(\u001b[0m\u001b[0minput\u001b[0m\u001b[0;34m(\u001b[0m\u001b[0;34m\"Enter a:\"\u001b[0m\u001b[0;34m)\u001b[0m\u001b[0;34m)\u001b[0m\u001b[0;34m\u001b[0m\u001b[0;34m\u001b[0m\u001b[0m\n\u001b[1;32m      2\u001b[0m \u001b[0mb\u001b[0m \u001b[0;34m=\u001b[0m \u001b[0mint\u001b[0m\u001b[0;34m(\u001b[0m\u001b[0minput\u001b[0m\u001b[0;34m(\u001b[0m\u001b[0;34m\"Enter b:\"\u001b[0m\u001b[0;34m)\u001b[0m\u001b[0;34m)\u001b[0m\u001b[0;34m\u001b[0m\u001b[0;34m\u001b[0m\u001b[0m\n\u001b[0;32m----> 3\u001b[0;31m \u001b[0mc\u001b[0m \u001b[0;34m=\u001b[0m \u001b[0ma\u001b[0m\u001b[0;34m/\u001b[0m\u001b[0mb\u001b[0m\u001b[0;34m\u001b[0m\u001b[0;34m\u001b[0m\u001b[0m\n\u001b[0m\u001b[1;32m      4\u001b[0m \u001b[0mprint\u001b[0m\u001b[0;34m(\u001b[0m\u001b[0;34m\"a/b = %d\"\u001b[0m \u001b[0;34m%\u001b[0m\u001b[0mc\u001b[0m\u001b[0;34m)\u001b[0m\u001b[0;34m\u001b[0m\u001b[0;34m\u001b[0m\u001b[0m\n",
            "\u001b[0;31mZeroDivisionError\u001b[0m: division by zero"
          ]
        }
      ]
    },
    {
      "cell_type": "markdown",
      "source": [
        "**2.** Handle the Arithmetic exception using try-catch block\n"
      ],
      "metadata": {
        "id": "eN8LyOS9PhWY"
      }
    },
    {
      "cell_type": "code",
      "source": [
        "try:  \n",
        "    a = int(input(\"Enter a:\"))    \n",
        "    b = int(input(\"Enter b:\"))    \n",
        "    c = a/b  \n",
        "except:  \n",
        "    print(\"Can't divide with zero\")  "
      ],
      "metadata": {
        "colab": {
          "base_uri": "https://localhost:8080/"
        },
        "id": "kSS5iNdvgd-B",
        "outputId": "bbdca6e6-c528-4e0c-9b15-37f2321b157e"
      },
      "execution_count": null,
      "outputs": [
        {
          "output_type": "stream",
          "name": "stdout",
          "text": [
            "Enter a:10\n",
            "Enter b:0\n",
            "Can't divide with zero\n"
          ]
        }
      ]
    },
    {
      "cell_type": "markdown",
      "source": [
        "**3.** Write a method which throws exception, Call that method in main class without try block\n"
      ],
      "metadata": {
        "id": "wF5exaa7PhLM"
      }
    },
    {
      "cell_type": "code",
      "source": [
        "from datetime import datetime\n",
        "\n",
        "current_date = datetime.now()\n",
        "print (\"Current date is: \" + current_date.strftime('%Y-%m-%d'))\n",
        "\n",
        "dateinput = input(\"Enter date in yyyy-mm-dd format: \")\n",
        "date_provided = datetime.strptime(dateinput, '%Y-%m-%d')\n",
        "print (\"Date provided is: \" + date_provided.strftime('%Y-%m-%d'))\n",
        "\n",
        "if (date_provided.date() < current_date.date()):\n",
        "    raise Exception(\"Date provided can't be in the past\")"
      ],
      "metadata": {
        "colab": {
          "base_uri": "https://localhost:8080/"
        },
        "id": "VPT88zsMgeU_",
        "outputId": "8c8d956b-9f7e-4aa1-e0a1-f6e7999fa8d7"
      },
      "execution_count": null,
      "outputs": [
        {
          "output_type": "stream",
          "name": "stdout",
          "text": [
            "Current date is: 2022-01-14\n",
            "Enter date in yyyy-mm-dd format: 2022-01-14\n",
            "Date provided is: 2022-01-14\n"
          ]
        }
      ]
    },
    {
      "cell_type": "markdown",
      "source": [
        "**4.** Write a program with multiple catch blocks\n"
      ],
      "metadata": {
        "id": "Oir80lZmPg_y"
      }
    },
    {
      "cell_type": "code",
      "source": [
        "import math\n",
        "integers = ['orange',6,-8,'apple']\n",
        "for number in integers:\n",
        "    try:\n",
        "        number_factorial = math.factorial(number)\n",
        "    except TypeError:\n",
        "        print(\"The input is not supported.\")\n",
        "    except ValueError:\n",
        "        print( number,\" is not a positive integer.\")"
      ],
      "metadata": {
        "colab": {
          "base_uri": "https://localhost:8080/"
        },
        "id": "U5HZYwIRge9W",
        "outputId": "3ce670b0-a585-4701-f436-f3da6e180e26"
      },
      "execution_count": null,
      "outputs": [
        {
          "output_type": "stream",
          "name": "stdout",
          "text": [
            "The input is not supported.\n",
            "-8  is not a positive integer.\n",
            "The input is not supported.\n"
          ]
        }
      ]
    },
    {
      "cell_type": "markdown",
      "source": [
        "**5.** Write a program to throw exception with your own message\n"
      ],
      "metadata": {
        "id": "mFuf_CpkPg1D"
      }
    },
    {
      "cell_type": "code",
      "source": [
        "class SalaryNotInRangeError(Exception):\n",
        "\n",
        "    def __init__(self, salary, message=\"Salary is not in (5000, 15000) range\"):\n",
        "        self.salary = salary\n",
        "        self.message = message\n",
        "        super().__init__(self.message)\n",
        "\n",
        "    def __str__(self):\n",
        "        return f'{self.salary} -> {self.message}'\n",
        "\n",
        "\n",
        "salary = int(input(\"Enter salary amount: \"))\n",
        "if not 5000 < salary < 15000:\n",
        "    raise SalaryNotInRangeError(salary)"
      ],
      "metadata": {
        "colab": {
          "base_uri": "https://localhost:8080/"
        },
        "id": "mgy6CEZwgfWT",
        "outputId": "1faaa253-e717-433d-a6d7-61afaa21a676"
      },
      "execution_count": null,
      "outputs": [
        {
          "name": "stdout",
          "output_type": "stream",
          "text": [
            "Enter salary amount: 10000\n"
          ]
        }
      ]
    },
    {
      "cell_type": "markdown",
      "source": [
        "**6.** Write a program to create your own exception"
      ],
      "metadata": {
        "id": "71i9RxXEPgtN"
      }
    },
    {
      "cell_type": "code",
      "source": [
        "try:\n",
        "  1/0\n",
        " \n",
        "except Exception as err:\n",
        "  # perform any action on Exception instance\n",
        "  print(\"Error:\", err)"
      ],
      "metadata": {
        "colab": {
          "base_uri": "https://localhost:8080/"
        },
        "id": "LLNvdGCxgfvt",
        "outputId": "23e4fcc0-386e-4c6a-cf72-f6dade1882d8"
      },
      "execution_count": null,
      "outputs": [
        {
          "output_type": "stream",
          "name": "stdout",
          "text": [
            "Error: division by zero\n"
          ]
        }
      ]
    },
    {
      "cell_type": "markdown",
      "source": [
        "**7.** Write a program with finally block"
      ],
      "metadata": {
        "id": "xG4T_iCOPgjN"
      }
    },
    {
      "cell_type": "code",
      "source": [
        "try:\n",
        "    k = 5//0 # raises divide by zero exception.\n",
        "    print(k)\n",
        "  \n",
        "except ZeroDivisionError:   \n",
        "    print(\"Can't divide by zero\")\n",
        "      \n",
        "finally:\n",
        "    # this block is always executed \n",
        "    # regardless of exception generation.\n",
        "    print('This is always executed') "
      ],
      "metadata": {
        "colab": {
          "base_uri": "https://localhost:8080/"
        },
        "id": "JFPPoI3tggJt",
        "outputId": "aa7c1a57-f54c-453a-ec73-328d6629c64d"
      },
      "execution_count": null,
      "outputs": [
        {
          "output_type": "stream",
          "name": "stdout",
          "text": [
            "Can't divide by zero\n",
            "This is always executed\n"
          ]
        }
      ]
    },
    {
      "cell_type": "markdown",
      "source": [
        "**8.** Write a program to generate Arithmetic Exception"
      ],
      "metadata": {
        "id": "GnxdSlCKPgYa"
      }
    },
    {
      "cell_type": "code",
      "source": [
        "\n",
        "a = int(input(\"Enter a:\"))    \n",
        "b = int(input(\"Enter b:\"))    \n",
        "c = a/b  "
      ],
      "metadata": {
        "colab": {
          "base_uri": "https://localhost:8080/",
          "height": 231
        },
        "id": "NJdvTZFighUt",
        "outputId": "cd017c6c-f9e8-41b4-c106-c94e9e92c3d0"
      },
      "execution_count": null,
      "outputs": [
        {
          "name": "stdout",
          "output_type": "stream",
          "text": [
            "Enter a:0\n",
            "Enter b:0\n"
          ]
        },
        {
          "output_type": "error",
          "ename": "ZeroDivisionError",
          "evalue": "ignored",
          "traceback": [
            "\u001b[0;31m---------------------------------------------------------------------------\u001b[0m",
            "\u001b[0;31mZeroDivisionError\u001b[0m                         Traceback (most recent call last)",
            "\u001b[0;32m<ipython-input-15-040c46825fbc>\u001b[0m in \u001b[0;36m<module>\u001b[0;34m()\u001b[0m\n\u001b[1;32m      2\u001b[0m \u001b[0ma\u001b[0m \u001b[0;34m=\u001b[0m \u001b[0mint\u001b[0m\u001b[0;34m(\u001b[0m\u001b[0minput\u001b[0m\u001b[0;34m(\u001b[0m\u001b[0;34m\"Enter a:\"\u001b[0m\u001b[0;34m)\u001b[0m\u001b[0;34m)\u001b[0m\u001b[0;34m\u001b[0m\u001b[0;34m\u001b[0m\u001b[0m\n\u001b[1;32m      3\u001b[0m \u001b[0mb\u001b[0m \u001b[0;34m=\u001b[0m \u001b[0mint\u001b[0m\u001b[0;34m(\u001b[0m\u001b[0minput\u001b[0m\u001b[0;34m(\u001b[0m\u001b[0;34m\"Enter b:\"\u001b[0m\u001b[0;34m)\u001b[0m\u001b[0;34m)\u001b[0m\u001b[0;34m\u001b[0m\u001b[0;34m\u001b[0m\u001b[0m\n\u001b[0;32m----> 4\u001b[0;31m \u001b[0mc\u001b[0m \u001b[0;34m=\u001b[0m \u001b[0ma\u001b[0m\u001b[0;34m/\u001b[0m\u001b[0mb\u001b[0m\u001b[0;34m\u001b[0m\u001b[0;34m\u001b[0m\u001b[0m\n\u001b[0m",
            "\u001b[0;31mZeroDivisionError\u001b[0m: division by zero"
          ]
        }
      ]
    },
    {
      "cell_type": "markdown",
      "source": [
        "**9.** Write a program to generate FileNotFoundException"
      ],
      "metadata": {
        "id": "b6UrhSMiPgJC"
      }
    },
    {
      "cell_type": "code",
      "source": [
        "import sys\n",
        "try:\n",
        "    file1 = open(\"d:/mytext2.txt\", \"r\")\n",
        "\n",
        "except FileNotFoundError:\n",
        "        print(\"Sorry file not found\")\n",
        "        sys.exit()\n",
        "s = file1.read()\n",
        "print(s)\n",
        "\n",
        "# close the text file\n",
        "file1.close()"
      ],
      "metadata": {
        "colab": {
          "base_uri": "https://localhost:8080/",
          "height": 163
        },
        "id": "dQVZ9a1Vghx6",
        "outputId": "850b59fd-a013-4444-bcb5-bef83f11b336"
      },
      "execution_count": null,
      "outputs": [
        {
          "output_type": "stream",
          "name": "stdout",
          "text": [
            "Sorry file not found\n"
          ]
        },
        {
          "output_type": "error",
          "ename": "SystemExit",
          "evalue": "ignored",
          "traceback": [
            "An exception has occurred, use %tb to see the full traceback.\n",
            "\u001b[0;31mSystemExit\u001b[0m\n"
          ]
        },
        {
          "output_type": "stream",
          "name": "stderr",
          "text": [
            "/usr/local/lib/python3.7/dist-packages/IPython/core/interactiveshell.py:2890: UserWarning: To exit: use 'exit', 'quit', or Ctrl-D.\n",
            "  warn(\"To exit: use 'exit', 'quit', or Ctrl-D.\", stacklevel=1)\n"
          ]
        }
      ]
    },
    {
      "cell_type": "markdown",
      "source": [
        "**10.** Write a program to generate ClassNotFoundException"
      ],
      "metadata": {
        "id": "GU7tKnfiPf-y"
      }
    },
    {
      "cell_type": "code",
      "source": [
        "\n",
        "def prin():\n",
        "     print(\"hai\")\n",
        "try :\n",
        "    prn()\n",
        "except NameError: \n",
        "    print(\"Function not found\")"
      ],
      "metadata": {
        "colab": {
          "base_uri": "https://localhost:8080/"
        },
        "id": "lLoYt9jNgiiv",
        "outputId": "b45d8f22-0a80-46db-e501-b51a46137755"
      },
      "execution_count": null,
      "outputs": [
        {
          "output_type": "stream",
          "name": "stdout",
          "text": [
            "Function not found\n"
          ]
        }
      ]
    },
    {
      "cell_type": "markdown",
      "source": [
        "**11.** Write a program to generate IOException"
      ],
      "metadata": {
        "id": "2EQPpVirPf2G"
      }
    },
    {
      "cell_type": "code",
      "source": [
        "#IOError: It occurs when Input Output operation fails.\n",
        "\n",
        "while True:\n",
        "    try:\n",
        "        n = input(\"Please enter an integer: \")\n",
        "        n = int(n)\n",
        "        break\n",
        "    except ValueError:\n",
        "        print(\"No valid integer! Please try again ...\")\n",
        "print(\"Great, you successfully entered an integer!\")"
      ],
      "metadata": {
        "colab": {
          "base_uri": "https://localhost:8080/"
        },
        "id": "mIgH2GFBgi5_",
        "outputId": "a561e9c3-16e2-4537-ee09-84ec37c351b2"
      },
      "execution_count": null,
      "outputs": [
        {
          "output_type": "stream",
          "name": "stdout",
          "text": [
            "Please enter an integer: s\n",
            "No valid integer! Please try again ...\n",
            "Please enter an integer: 10\n",
            "Great, you successfully entered an integer!\n"
          ]
        }
      ]
    },
    {
      "cell_type": "markdown",
      "source": [
        "**12.** Write a program to generate NoSuchFieldException"
      ],
      "metadata": {
        "id": "Ton-6MGpPfsy"
      }
    },
    {
      "cell_type": "code",
      "execution_count": null,
      "metadata": {
        "id": "IlglOXVlPSkZ",
        "colab": {
          "base_uri": "https://localhost:8080/",
          "height": 129
        },
        "outputId": "aec108d4-dd23-4ca1-ec33-b25c151b8021"
      },
      "outputs": [
        {
          "output_type": "error",
          "ename": "IndentationError",
          "evalue": "ignored",
          "traceback": [
            "\u001b[0;36m  File \u001b[0;32m\"<ipython-input-37-2615071ba71c>\"\u001b[0;36m, line \u001b[0;32m3\u001b[0m\n\u001b[0;31m    n = input(\"Please enter an integer: \")\u001b[0m\n\u001b[0m                                          ^\u001b[0m\n\u001b[0;31mIndentationError\u001b[0m\u001b[0;31m:\u001b[0m unindent does not match any outer indentation level\n"
          ]
        }
      ],
      "source": [
        "              while True:\n",
        "    try:\n",
        " n = input(\"Please enter an integer: \")\n",
        "        n = int(n)\n",
        "        break\n",
        "    except IndentationError:\n",
        "        print(\"\")\n",
        "print(\"Great, you successfully entered an integer!\")"
      ]
    },
    {
      "cell_type": "code",
      "source": [
        ""
      ],
      "metadata": {
        "id": "VSrnw_sC6M_x"
      },
      "execution_count": null,
      "outputs": []
    }
  ]
}